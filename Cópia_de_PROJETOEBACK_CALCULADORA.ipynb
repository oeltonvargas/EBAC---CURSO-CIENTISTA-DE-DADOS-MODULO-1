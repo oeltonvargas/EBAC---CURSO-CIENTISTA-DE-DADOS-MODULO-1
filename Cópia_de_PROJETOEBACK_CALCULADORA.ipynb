{
  "nbformat": 4,
  "nbformat_minor": 0,
  "metadata": {
    "colab": {
      "provenance": [],
      "authorship_tag": "ABX9TyMdYPvHid/WHfEnNibuUc/9",
      "include_colab_link": true
    },
    "kernelspec": {
      "name": "python3",
      "display_name": "Python 3"
    },
    "language_info": {
      "name": "python"
    }
  },
  "cells": [
    {
      "cell_type": "markdown",
      "metadata": {
        "id": "view-in-github",
        "colab_type": "text"
      },
      "source": [
        "<a href=\"https://colab.research.google.com/github/oeltonvargas/EBAC---CURSO-CIENTISTA-DE-DADOS-MODULO-1/blob/main/C%C3%B3pia_de_PROJETOEBACK_CALCULADORA.ipynb\" target=\"_parent\"><img src=\"https://colab.research.google.com/assets/colab-badge.svg\" alt=\"Open In Colab\"/></a>"
      ]
    },
    {
      "cell_type": "markdown",
      "source": [
        "# CALCULADORA INTELIGENTE:\n",
        "## Desenvolver uma calculadora que obedeça aos seguintes critérios:\n",
        "\n",
        "Utilize o comando 'input' para receber ao menos 2 números de entrada\n",
        "\n",
        "*   Utilize o comando 'input' para receber ao menos 2 números de entrada\n",
        "do usuário\n",
        "\n",
        "*   Converta os valores recebidos pelo usuário para número inteiro ou ponto flutuante\n",
        "\n",
        "*   Implemente ao menos 4 operações matemáticas em seu código\n",
        "*   Adicione um laço de repetição ou uma condicional\n",
        "*   Utilize o comando print para exibir o resultado da operação\n"
      ],
      "metadata": {
        "id": "Cyas-QHJyz2M"
      }
    },
    {
      "cell_type": "code",
      "source": [
        "#Utilizando comando input para receber os dois números\n",
        "#Comunicando ao usuário final nossa solicitação\n",
        "\n",
        "num1 = input(\"Digite o primeiro número: \")\n",
        "num2 = input(\"Digite o segundo número: \")\n",
        "\n",
        "#Se necessário vamos utilizar FLOAT\n",
        "num1 = float (num1)\n",
        "num2 = float (num2)\n",
        "\n",
        "\n",
        "soma = num1 + num2\n",
        "print(\"A soma é: \", soma)\n",
        "subtracao = num1 - num2\n",
        "print(\"A subtração é: \", subtracao)\n",
        "multiplicacao = num1 * num2\n",
        "print(\"A multiplicação é: \", multiplicacao)\n",
        "divisao = num1 / num2\n",
        "print(\"A divisão é: \", divisao)\n",
        "Resto = num1 % num2\n",
        "print ( \"O resto da divisão é: \", Resto)\n",
        "\n",
        "\n",
        "#Deixando o usuario escolher a operação a ser executada\n",
        "print(\"\\nEscolha uma operação:\")\n",
        "print(\"1 - Soma\")\n",
        "print(\"2 - Subtração\")\n",
        "print(\"3 - Multiplicação\")\n",
        "print(\"4 - Divisão\")\n",
        "print(\"5 - Sair\")\n",
        "\n",
        "\n",
        " #Loop para permitir que o usuario realize varias operacoes\n",
        "while True:\n",
        "    op = input(\"Digite o número da operação desejada: \")\n",
        "\n",
        "    if op =='1':\n",
        "      resultado = num1 + num2\n",
        "      print(f\"O resultado da soma é: \", soma)\n",
        "    elif op == '2':\n",
        "      resultado = num1 - num2\n",
        "      print(f\"O resultado da subtração é: \", subtracao)\n",
        "    elif op == '3':\n",
        "      resultado = num1 * num2\n",
        "      print(f\"O resultado da multiplicação é: \", multiplicacao)\n",
        "    elif op == '4':\n",
        "      if num2 != 0:\n",
        "        resultado = num1 / num2\n",
        "        print(f\"O resultado da divisão é: \", divisao)\n",
        "      else:\n",
        "        print(\"Erro: Não é possível dividir por zero.\")\n",
        "    elif op == '5':\n",
        "        print(\"Saindo...\")\n",
        "        break  # Sai do loop e encerra o programa\n",
        "\n",
        "    else:\n",
        "        print(\"Opção inválida. Por favor, escolha uma operação válida.\")\n",
        "\n",
        "\n",
        "\n",
        "\n",
        "\n",
        "\n"
      ],
      "metadata": {
        "colab": {
          "base_uri": "https://localhost:8080/"
        },
        "id": "MG94hgkc18Ru",
        "outputId": "a51dc844-0547-46b8-b0a0-0f0c125cd627"
      },
      "execution_count": null,
      "outputs": [
        {
          "output_type": "stream",
          "name": "stdout",
          "text": [
            "Digite o primeiro número: 4\n",
            "Digite o segundo número: 2\n",
            "A soma é:  6.0\n",
            "A subtração é:  2.0\n",
            "A multiplicação é:  8.0\n",
            "A divisão é:  2.0\n",
            "Caso tenha ficado com dúvidas o resto da divisão é:  0.0\n",
            "\n",
            "Escolha uma operação:\n",
            "1 - Soma\n",
            "2 - Subtração\n",
            "3 - Multiplicação\n",
            "4 - Divisão\n",
            "5 - Sair\n",
            "Digite o número da operação desejada: 5\n",
            "Saindo...\n"
          ]
        }
      ]
    }
  ]
}