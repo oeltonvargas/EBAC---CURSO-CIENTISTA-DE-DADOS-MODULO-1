{
  "cells": [
    {
      "cell_type": "code",
      "source": [
        "\n",
        "notas_aluno1 = [float(input(\"Digite a nota 1 do aluno 1: \")), float(input(\"Digite a nota 2 do aluno 1: \")), float(input(\"Digite a nota 3 do aluno 1: \"))]\n",
        "notas_aluno2 = [float(input(\"Digite a nota 1 do aluno 2: \")), float(input(\"Digite a nota 2 do aluno 2: \")), float(input(\"Digite a nota 3 do aluno 2: \"))]\n",
        "notas_aluno3 = [float(input(\"Digite a nota 1 do aluno 3: \")), float(input(\"Digite a nota 2 do aluno 3: \")), float(input(\"Digite a nota 3 do aluno 3: \"))]\n",
        "\n",
        "\n",
        "media_aluno1 = sum(notas_aluno1) / 3\n",
        "media_aluno2 = sum(notas_aluno2) / 3\n",
        "media_aluno3 = sum(notas_aluno3) / 3\n",
        "\n",
        "\n",
        "print(f\"A média do aluno 1 é: {media_aluno1:.2f}\")\n",
        "print(f\"A média do aluno 2 é: {media_aluno2:.2f}\")\n",
        "print(f\"A média do aluno 3 é: {media_aluno3:.2f}\")\n",
        "\n",
        "\n",
        "\n",
        "maior_media = max(media_aluno1, media_aluno2, media_aluno3)\n",
        "\n",
        "if maior_media == media_aluno1:\n",
        "    print(\"O aluno 1 teve a maior média!\")\n",
        "elif maior_media == media_aluno2:\n",
        "    print(\"O aluno 2 teve a maior média!\")\n",
        "else:\n",
        "    print(\"O aluno 3 teve a maior média!\")\n",
        "\n"
      ],
      "metadata": {
        "id": "gS8CI0jYnoqV",
        "outputId": "0f495369-92f9-4aa6-8260-377328cfce5f",
        "colab": {
          "base_uri": "https://localhost:8080/"
        }
      },
      "execution_count": null,
      "outputs": [
        {
          "output_type": "stream",
          "name": "stdout",
          "text": [
            "Digite a nota 1 do aluno 1: 3\n",
            "Digite a nota 2 do aluno 1: 6\n",
            "Digite a nota 3 do aluno 1: 7\n",
            "Digite a nota 1 do aluno 2: 8\n",
            "Digite a nota 2 do aluno 2: 8\n",
            "Digite a nota 3 do aluno 2: 9\n",
            "Digite a nota 1 do aluno 3: 10\n",
            "Digite a nota 2 do aluno 3: 10\n",
            "Digite a nota 3 do aluno 3: 2\n",
            "A média do aluno 1 é: 5.33\n",
            "A média do aluno 2 é: 8.33\n",
            "A média do aluno 3 é: 7.33\n",
            "O aluno 2 teve a maior média!\n"
          ]
        }
      ]
    }
  ],
  "metadata": {
    "colab": {
      "provenance": []
    },
    "kernelspec": {
      "display_name": "Python 3",
      "name": "python3"
    }
  },
  "nbformat": 4,
  "nbformat_minor": 0
}